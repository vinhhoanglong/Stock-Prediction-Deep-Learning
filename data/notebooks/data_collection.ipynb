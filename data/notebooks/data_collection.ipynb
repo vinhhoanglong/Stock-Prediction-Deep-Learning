{
 "cells": [
  {
   "cell_type": "code",
   "execution_count": 1,
   "metadata": {},
   "outputs": [
    {
     "name": "stdout",
     "output_type": "stream",
     "text": [
      "hello\n"
     ]
    }
   ],
   "source": [
    "print(\"hello\")"
   ]
  },
  {
   "cell_type": "code",
   "execution_count": null,
   "metadata": {},
   "outputs": [],
   "source": [
    "import yfinance as yf\n",
    "import pandas as pd\n",
    "import matplotlib.pyplot as plt\n"
   ]
  },
  {
   "cell_type": "code",
   "execution_count": 5,
   "metadata": {},
   "outputs": [],
   "source": [
    "ticker_symbol = \"AAPL\"\n",
    "ticker = yf.Ticker(ticker_symbol)\n",
    "history_data_AAPL = ticker.history(period=\"max\", interval = \"1d\")\n",
    "df_AAPL= pd.DataFrame(history_data_AAPL)\n",
    "df_AAPL\n",
    "df_AAPL.to_csv(\"../raw/APPLE.csv\")"
   ]
  },
  {
   "cell_type": "code",
   "execution_count": 6,
   "metadata": {},
   "outputs": [],
   "source": [
    "ticker_symbol = \"MSFT\"\n",
    "ticker = yf.Ticker(ticker_symbol)\n",
    "historical_data_MSFT = ticker.history(period=\"max\", interval = \"1d\")\n",
    "df_MSFT= pd.DataFrame(historical_data_MSFT)\n",
    "df_MSFT\n",
    "df_MSFT.to_csv(\"../raw/MSFT.csv\")"
   ]
  },
  {
   "cell_type": "code",
   "execution_count": 7,
   "metadata": {},
   "outputs": [],
   "source": [
    "ticker_symbol = \"QCOM\"\n",
    "ticker = yf.Ticker(ticker_symbol)\n",
    "historical_data_QCOM = ticker.history(period=\"max\", interval = \"1d\")\n",
    "df_QCOM= pd.DataFrame(historical_data_QCOM)\n",
    "df_QCOM\n",
    "df_QCOM.to_csv(\"../raw/QCOM.csv\")"
   ]
  },
  {
   "cell_type": "code",
   "execution_count": 12,
   "metadata": {},
   "outputs": [],
   "source": [
    "\n",
    "ticker_symbol = \"INTC\"\n",
    "ticker = yf.Ticker(ticker_symbol)\n",
    "historical_data_INTC= ticker.history(period=\"max\", interval = \"1d\")\n",
    "df_INTC= pd.DataFrame(historical_data_INTC)\n",
    "df_INTC\n",
    "df_INTC.to_csv(\"../raw/INTC.csv\")"
   ]
  },
  {
   "cell_type": "code",
   "execution_count": 13,
   "metadata": {},
   "outputs": [],
   "source": [
    "\n",
    "ticker_symbol = \"IBM\"\n",
    "ticker = yf.Ticker(ticker_symbol)\n",
    "historical_data_IBM= ticker.history(period=\"max\", interval = \"1d\")\n",
    "df_IBM= pd.DataFrame(historical_data_IBM)\n",
    "df_IBM\n",
    "df_IBM.to_csv(\"../raw/IBM.csv\")"
   ]
  },
  {
   "cell_type": "code",
   "execution_count": 15,
   "metadata": {},
   "outputs": [],
   "source": [
    "ticker_symbol = \"SPY\"\n",
    "ticker = yf.Ticker(ticker_symbol)\n",
    "historical_data_SPY= ticker.history(period=\"max\", interval = \"1d\")\n",
    "df_SPY= pd.DataFrame(historical_data_SPY)\n",
    "df_SPY\n",
    "df_SPY.to_csv(\"../raw/SPY.csv\")"
   ]
  },
  {
   "cell_type": "code",
   "execution_count": 16,
   "metadata": {},
   "outputs": [],
   "source": [
    "ticker_symbol = \"TXN\"\n",
    "ticker = yf.Ticker(ticker_symbol)\n",
    "historical_data_TXN= ticker.history(period=\"max\", interval = \"1d\")\n",
    "df_TXN= pd.DataFrame(historical_data_TXN)\n",
    "df_TXN\n",
    "df_TXN.to_csv(\"../raw/TXN.csv\")"
   ]
  },
  {
   "cell_type": "code",
   "execution_count": null,
   "metadata": {},
   "outputs": [],
   "source": []
  }
 ],
 "metadata": {
  "kernelspec": {
   "display_name": ".venv",
   "language": "python",
   "name": "python3"
  },
  "language_info": {
   "codemirror_mode": {
    "name": "ipython",
    "version": 3
   },
   "file_extension": ".py",
   "mimetype": "text/x-python",
   "name": "python",
   "nbconvert_exporter": "python",
   "pygments_lexer": "ipython3",
   "version": "3.12.7"
  }
 },
 "nbformat": 4,
 "nbformat_minor": 2
}
